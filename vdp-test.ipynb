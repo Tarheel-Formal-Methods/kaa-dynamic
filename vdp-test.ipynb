{
 "cells": [
  {
   "cell_type": "code",
   "execution_count": 2,
   "metadata": {},
   "outputs": [],
   "source": [
    "from kaa.reach import ReachSet\n",
    "from kaa.plotutil import Plot\n",
    "from models.vanderpol import VanDerPol, VanDerPol_UnitBox\n",
    "from models.sir import SIR_UnitBox, SIR\n",
    "from models.harosc import HarOsc\n",
    "\n",
    "from kaa.temp.pca_strat import PCAStrat\n",
    "from kaa.temp.lin_app_strat import LinStrat\n",
    "from kaa.bundle import BundleMode\n",
    "from kaa.settings import PlotSettings\n",
    "from kaa.timer import Timer\n",
    "\n",
    "\n",
    "PlotSettings.save_fig = False #Enable interactive mode\n"
   ]
  },
  {
   "cell_type": "code",
   "execution_count": null,
   "metadata": {
    "scrolled": true
   },
   "outputs": [],
   "source": [
    "NUM_STEPS = 3\n",
    "\n",
    "model = HarOsc(delta=0.01)\n",
    "mod_reach = ReachSet(model)\n",
    "\n",
    "mod_flow = mod_reach.computeReachSet(NUM_STEPS)\n",
    "\n",
    "SIR_PCA_ITER_STEPS = 1 #Number of steps between each recomputation of PCA Templates.\n",
    "'PCA Strategy Parameters'\n",
    "SIR_PCA_TRAJ_STEPS = 5 #Number of steps our sample trajectories should run.\n",
    "SIR_PCA_NUM_TRAJ = 100 #Number of sample trajectories we should use for the PCA routine.\n",
    "\n",
    "pca_strat = PCAStrat(model, traj_steps=SIR_PCA_TRAJ_STEPS, num_trajs=SIR_PCA_NUM_TRAJ, iter_steps=SIR_PCA_ITER_STEPS)\n",
    "mod_pca_flow = mod_reach.computeReachSet(NUM_STEPS, tempstrat=pca_strat)\n",
    "\n",
    "vdp_plot = Plot()\n",
    "vdp_plot.add(mod_flow, \"HarOsc\")\n",
    "#vdp_plot.add(mod_pca_flow, \"HarOsc PCA\")\n",
    "vdp_plot.plot2DPhase(0,1)\n",
    "\n",
    "Timer.generate_stats()\n"
   ]
  },
  {
   "cell_type": "code",
   "execution_count": 3,
   "metadata": {
    "scrolled": false
   },
   "outputs": [
    {
     "ename": "NameError",
     "evalue": "name 'unit_mod_reach' is not defined",
     "output_type": "error",
     "traceback": [
      "\u001b[0;31m---------------------------------------------------------------------------\u001b[0m",
      "\u001b[0;31mNameError\u001b[0m                                 Traceback (most recent call last)",
      "\u001b[0;32m<ipython-input-3-33b16c66c340>\u001b[0m in \u001b[0;36m<module>\u001b[0;34m\u001b[0m\n\u001b[1;32m      8\u001b[0m \u001b[0;34m\u001b[0m\u001b[0m\n\u001b[1;32m      9\u001b[0m \u001b[0mmod_flow\u001b[0m \u001b[0;34m=\u001b[0m \u001b[0mmod_reach\u001b[0m\u001b[0;34m.\u001b[0m\u001b[0mcomputeReachSet\u001b[0m\u001b[0;34m(\u001b[0m\u001b[0mNUM_STEPS\u001b[0m\u001b[0;34m)\u001b[0m\u001b[0;34m\u001b[0m\u001b[0;34m\u001b[0m\u001b[0m\n\u001b[0;32m---> 10\u001b[0;31m \u001b[0munit_mod_flow\u001b[0m \u001b[0;34m=\u001b[0m \u001b[0munit_mod_reach\u001b[0m\u001b[0;34m.\u001b[0m\u001b[0mcomputeReachSet\u001b[0m\u001b[0;34m(\u001b[0m\u001b[0mNUM_STEPS\u001b[0m\u001b[0;34m)\u001b[0m\u001b[0;34m\u001b[0m\u001b[0;34m\u001b[0m\u001b[0m\n\u001b[0m\u001b[1;32m     11\u001b[0m \u001b[0;34m\u001b[0m\u001b[0m\n\u001b[1;32m     12\u001b[0m \u001b[0msir_plot\u001b[0m \u001b[0;34m=\u001b[0m \u001b[0mPlot\u001b[0m\u001b[0;34m(\u001b[0m\u001b[0;34m)\u001b[0m\u001b[0;34m\u001b[0m\u001b[0;34m\u001b[0m\u001b[0m\n",
      "\u001b[0;31mNameError\u001b[0m: name 'unit_mod_reach' is not defined"
     ]
    }
   ],
   "source": [
    "NUM_STEPS = 30\n",
    "\n",
    "model = SIR()\n",
    "#unit_model = VanDerPol_UnitBox()\n",
    "\n",
    "mod_reach = ReachSet(model)\n",
    "#unit_mod_reach = ReachSet(unit_model)\n",
    "\n",
    "mod_flow = mod_reach.computeReachSet(NUM_STEPS)\n",
    "unit_mod_flow = unit_mod_reach.computeReachSet(NUM_STEPS) \n",
    "\n",
    "sir_plot = Plot()\n",
    "sir_plot.add(mod_flow, \"SIR\")\n",
    "vdp_plot.add(unit_mod_flow, \"SIR_UNIT\")\n",
    "sir_plot.plot2DPhase(0,2)\n",
    "\n",
    "Timer.generate_stats()\n"
   ]
  },
  {
   "cell_type": "code",
   "execution_count": null,
   "metadata": {},
   "outputs": [],
   "source": []
  }
 ],
 "metadata": {
  "kernelspec": {
   "display_name": "Python 3",
   "language": "python",
   "name": "python3"
  },
  "language_info": {
   "codemirror_mode": {
    "name": "ipython",
    "version": 3
   },
   "file_extension": ".py",
   "mimetype": "text/x-python",
   "name": "python",
   "nbconvert_exporter": "python",
   "pygments_lexer": "ipython3",
   "version": "3.8.3"
  }
 },
 "nbformat": 4,
 "nbformat_minor": 4
}
